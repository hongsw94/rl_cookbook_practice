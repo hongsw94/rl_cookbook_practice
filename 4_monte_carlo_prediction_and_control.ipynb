{
 "cells": [
  {
   "cell_type": "code",
   "execution_count": 1,
   "metadata": {},
   "outputs": [],
   "source": [
    "import numpy as np\n",
    "from envs.gridworldv2 import GridworldV2Env\n",
    "from value_function_utils import visualize_grid_state_values, visualize_grid_action_values"
   ]
  },
  {
   "cell_type": "code",
   "execution_count": 2,
   "metadata": {},
   "outputs": [],
   "source": [
    "def mc_predict(env, max_episodes):\n",
    "    returns = {state: [] for state in env.distinct_states}\n",
    "    grid_state_values = np.zeros(len(env.distinct_states))\n",
    "    grid_state_values[env.goal_state] = 1\n",
    "    grid_state_values[env.bomb_state] = -1\n",
    "    gamma = 0.99\n",
    "\n",
    "    for episodes in range(max_episodes):\n",
    "        g_t = 0\n",
    "        state = env.reset()\n",
    "        done = False \n",
    "        trajectory = []\n",
    "        \n",
    "        while not done:\n",
    "            action = env.action_space.sample() # random policy \n",
    "            next_state, reward, done = env.step(action)\n",
    "            trajectory.append((state, action, reward))\n",
    "            state = next_state \n",
    "\n",
    "        for idx, (state, action, reward) in enumerate(trajectory[::-1]):\n",
    "            g_t = gamma * g_t + reward\n",
    "\n",
    "            # first visit Monte-Carlo prediction\n",
    "            if state not in np.array(trajectory[::-1])[:, 0][idx+1 :]:\n",
    "                returns[str(state)].append(g_t)\n",
    "                grid_state_values[state] = np.mean(returns[str(state)])\n",
    "    \n",
    "    visualize_grid_state_values(grid_state_values.reshape((3, 4)))"
   ]
  },
  {
   "cell_type": "code",
   "execution_count": 3,
   "metadata": {},
   "outputs": [],
   "source": [
    "def epsilon_greedy(action_logits, epsilon=0.1):\n",
    "    pass "
   ]
  },
  {
   "cell_type": "code",
   "execution_count": 4,
   "metadata": {},
   "outputs": [],
   "source": [
    "def mc_control(env, max_episodes):\n",
    "    pass"
   ]
  },
  {
   "cell_type": "code",
   "execution_count": 5,
   "metadata": {},
   "outputs": [
    {
     "ename": "ValueError",
     "evalue": "too many values to unpack (expected 2)",
     "output_type": "error",
     "traceback": [
      "\u001b[0;31m---------------------------------------------------------------------------\u001b[0m",
      "\u001b[0;31mValueError\u001b[0m                                Traceback (most recent call last)",
      "\u001b[1;32m/Users/sam/Desktop/projects/rl_cookbook_practice/4_monte_carlo_prediction_and_control.ipynb Cell 5'\u001b[0m in \u001b[0;36m<module>\u001b[0;34m\u001b[0m\n\u001b[1;32m      <a href='vscode-notebook-cell:/Users/sam/Desktop/projects/rl_cookbook_practice/4_monte_carlo_prediction_and_control.ipynb#ch0000012?line=0'>1</a>\u001b[0m env \u001b[39m=\u001b[39m GridworldV2Env()\n\u001b[0;32m----> <a href='vscode-notebook-cell:/Users/sam/Desktop/projects/rl_cookbook_practice/4_monte_carlo_prediction_and_control.ipynb#ch0000012?line=2'>3</a>\u001b[0m mc_predict(env, max_episodes\u001b[39m=\u001b[39;49m\u001b[39m5000\u001b[39;49m)\n",
      "\u001b[1;32m/Users/sam/Desktop/projects/rl_cookbook_practice/4_monte_carlo_prediction_and_control.ipynb Cell 2'\u001b[0m in \u001b[0;36mmc_predict\u001b[0;34m(env, max_episodes)\u001b[0m\n\u001b[1;32m     <a href='vscode-notebook-cell:/Users/sam/Desktop/projects/rl_cookbook_practice/4_monte_carlo_prediction_and_control.ipynb#ch0000002?line=16'>17</a>\u001b[0m     trajectory\u001b[39m.\u001b[39mappend((state, action, reward))\n\u001b[1;32m     <a href='vscode-notebook-cell:/Users/sam/Desktop/projects/rl_cookbook_practice/4_monte_carlo_prediction_and_control.ipynb#ch0000002?line=17'>18</a>\u001b[0m     state \u001b[39m=\u001b[39m next_state \n\u001b[0;32m---> <a href='vscode-notebook-cell:/Users/sam/Desktop/projects/rl_cookbook_practice/4_monte_carlo_prediction_and_control.ipynb#ch0000002?line=19'>20</a>\u001b[0m \u001b[39mfor\u001b[39;00m idx, (state, reward) \u001b[39min\u001b[39;00m \u001b[39menumerate\u001b[39m(trajectory[::\u001b[39m-\u001b[39m\u001b[39m1\u001b[39m]):\n\u001b[1;32m     <a href='vscode-notebook-cell:/Users/sam/Desktop/projects/rl_cookbook_practice/4_monte_carlo_prediction_and_control.ipynb#ch0000002?line=20'>21</a>\u001b[0m     g_t \u001b[39m=\u001b[39m gamma \u001b[39m*\u001b[39m g_t \u001b[39m+\u001b[39m reward\n\u001b[1;32m     <a href='vscode-notebook-cell:/Users/sam/Desktop/projects/rl_cookbook_practice/4_monte_carlo_prediction_and_control.ipynb#ch0000002?line=22'>23</a>\u001b[0m     \u001b[39m# first visit Monte-Carlo prediction\u001b[39;00m\n",
      "\u001b[0;31mValueError\u001b[0m: too many values to unpack (expected 2)"
     ]
    }
   ],
   "source": [
    "env = GridworldV2Env()\n",
    "\n",
    "mc_predict(env, max_episodes=5000)"
   ]
  },
  {
   "cell_type": "code",
   "execution_count": 35,
   "metadata": {},
   "outputs": [
    {
     "data": {
      "text/plain": [
       "{'0': [-10.683073420338314],\n",
       " '1': [-10.588963050846782],\n",
       " '2': [-9.4888474781579],\n",
       " '3': [],\n",
       " '4': [-10.77624268613493],\n",
       " '5': [],\n",
       " '6': [],\n",
       " '7': [],\n",
       " '8': [-11.050197502114035],\n",
       " '9': [-10.959795456680844],\n",
       " '10': [],\n",
       " '11': []}"
      ]
     },
     "execution_count": 35,
     "metadata": {},
     "output_type": "execute_result"
    }
   ],
   "source": []
  },
  {
   "cell_type": "code",
   "execution_count": null,
   "metadata": {},
   "outputs": [],
   "source": []
  }
 ],
 "metadata": {
  "interpreter": {
   "hash": "f14269bf3ad7aa2ae115b9ca9481e15e8eacecd83dc3347ac1efd388ad78cc6e"
  },
  "kernelspec": {
   "display_name": "Python 3.8.12",
   "language": "python",
   "name": "python3"
  },
  "language_info": {
   "codemirror_mode": {
    "name": "ipython",
    "version": 3
   },
   "file_extension": ".py",
   "mimetype": "text/x-python",
   "name": "python",
   "nbconvert_exporter": "python",
   "pygments_lexer": "ipython3",
   "version": "3.8.12"
  },
  "orig_nbformat": 4
 },
 "nbformat": 4,
 "nbformat_minor": 2
}
