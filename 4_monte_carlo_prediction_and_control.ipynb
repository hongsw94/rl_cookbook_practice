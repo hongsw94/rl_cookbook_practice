{
 "cells": [
  {
   "cell_type": "code",
   "execution_count": 2,
   "metadata": {},
   "outputs": [],
   "source": [
    "import numpy as np"
   ]
  },
  {
   "cell_type": "code",
   "execution_count": 3,
   "metadata": {},
   "outputs": [],
   "source": [
    "from envs.gridworldv2 import GridworldV2Env\n",
    "from value_function_utils import visualize_grid_action_values, visualize_grid_state_values"
   ]
  },
  {
   "cell_type": "code",
   "execution_count": 33,
   "metadata": {},
   "outputs": [],
   "source": [
    "def mc_predict(env, max_episodes):\n",
    "    returns = {state: [] for state in env.distinct_states}\n",
    "    grid_state_values = np.zeros(len(env.distinct_states))\n",
    "    grid_state_values[env.goal_state] = 1\n",
    "    grid_state_values[env.bomb_state] = -1\n",
    "    gamma = 0.99\n",
    "\n",
    "    for episodes in range(max_episodes):\n",
    "        g_t = 0\n",
    "        state = env.reset()\n",
    "        done = False \n",
    "        trajectory = []\n",
    "        \n",
    "        while not done:\n",
    "            action = env.action_space.sample() # random policy \n",
    "            next_state, reward, done = env.step(action)\n",
    "            trajectory.append((state, reward))\n",
    "            state = next_state \n",
    "\n",
    "        for idx, (state, reward) in enumerate(trajectory[::-1]):\n",
    "            g_t = gamma * g_t + reward\n",
    "\n",
    "            # first visit Monte-Carlo prediction\n",
    "            if state not in np.array(trajectory[::-1])[:, 0][idx+1 :]:\n",
    "                returns[str(state)].append(g_t)\n",
    "                grid_state_values[state] = np.mean(returns[str(state)])\n",
    "    \n",
    "    visualize_grid_state_values(grid_state_values.reshape((3, 4)))"
   ]
  },
  {
   "cell_type": "code",
   "execution_count": 6,
   "metadata": {},
   "outputs": [],
   "source": [
    "def epsilon_greedy(action_logits, epsilon=0.1):\n",
    "    pass "
   ]
  },
  {
   "cell_type": "code",
   "execution_count": 8,
   "metadata": {},
   "outputs": [],
   "source": [
    "def mc_control(env, max_episodes):\n",
    "    pass"
   ]
  },
  {
   "cell_type": "code",
   "execution_count": 34,
   "metadata": {},
   "outputs": [
    {
     "data": {
      "image/png": "[encoded data removed]",
      "text/plain": [
       "<Figure size 864x360 with 2 Axes>"
      ]
     },
     "metadata": {
      "needs_background": "light"
     },
     "output_type": "display_data"
    }
   ],
   "source": [
    "env = GridworldV2Env()\n",
    "\n",
    "mc_predict(env, max_episodes=1000)"
   ]
  },
  {
   "cell_type": "code",
   "execution_count": null,
   "metadata": {},
   "outputs": [],
   "source": []
  }
 ],
 "metadata": {
  "interpreter": {
   "hash": "f14269bf3ad7aa2ae115b9ca9481e15e8eacecd83dc3347ac1efd388ad78cc6e"
  },
  "kernelspec": {
   "display_name": "Python 3.8.12",
   "language": "python",
   "name": "python3"
  },
  "language_info": {
   "codemirror_mode": {
    "name": "ipython",
    "version": 3
   },
   "file_extension": ".py",
   "mimetype": "text/x-python",
   "name": "python",
   "nbconvert_exporter": "python",
   "pygments_lexer": "ipython3",
   "version": "3.8.12"
  },
  "orig_nbformat": 4
 },
 "nbformat": 4,
 "nbformat_minor": 2
}
