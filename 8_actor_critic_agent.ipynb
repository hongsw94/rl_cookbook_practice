{
 "cells": [
  {
   "cell_type": "code",
   "execution_count": 1,
   "id": "a980a6b2",
   "metadata": {},
   "outputs": [],
   "source": [
    "import numpy as np\n",
    "import tensorflow as tf\n",
    "import tensorflow_probability as tfp\n",
    "import gym"
   ]
  },
  {
   "cell_type": "code",
   "execution_count": 2,
   "metadata": {},
   "outputs": [],
   "source": [
    "env = gym.make(\"CartPole-v0\")"
   ]
  },
  {
   "cell_type": "code",
   "execution_count": 3,
   "metadata": {},
   "outputs": [],
   "source": [
    "state_dim = env.observation_space.shape[0]\n",
    "action_dim = env.action_space.n "
   ]
  },
  {
   "cell_type": "code",
   "execution_count": 17,
   "metadata": {},
   "outputs": [],
   "source": [
    "class ActorCritic(tf.keras.Model):\n",
    "    def __init__(self, action_dim):\n",
    "        super().__init__()\n",
    "        self.fc1 = tf.keras.layers.Dense(512, activation='relu')\n",
    "        self.fc2 = tf.keras.layers.Dense(128, activation='relu')\n",
    "        self.critic = tf.keras.layers.Dense(1, activation='linear')\n",
    "        self.actor = tf.keras.layers.Dense(action_dim, activation='linear')\n",
    "    \n",
    "    def call(self, input_data):\n",
    "        x = self.fc1(input_data)\n",
    "        x1 = self.fc2(x)\n",
    "\n",
    "        actor = self.actor(x1)\n",
    "        critic = self.critic(x1)\n",
    "        return actor, critic"
   ]
  },
  {
   "cell_type": "code",
   "execution_count": 22,
   "metadata": {},
   "outputs": [
    {
     "data": {
      "text/plain": [
       "array([[-0.0348073 ,  0.02271736, -0.00114993, -0.04963978]],\n",
       "      dtype=float32)"
      ]
     },
     "execution_count": 22,
     "metadata": {},
     "output_type": "execute_result"
    }
   ],
   "source": [
    "observation = env.reset()\n",
    "observation = observation.reshape([-1, 1])\n",
    "observation"
   ]
  },
  {
   "cell_type": "code",
   "execution_count": 23,
   "metadata": {},
   "outputs": [],
   "source": [
    "actor_critic = ActorCritic(action_dim=action_dim)"
   ]
  },
  {
   "cell_type": "code",
   "execution_count": 31,
   "metadata": {},
   "outputs": [],
   "source": [
    "gamma = 0.99\n"
   ]
  },
  {
   "cell_type": "markdown",
   "metadata": {},
   "source": [
    "### function: `get_action` \n",
    "\n",
    "* Arg: \n",
    "    * state (`np.ndarray`) : observation or state from the environment at current time step\n",
    "\n",
    "\n",
    "* Return:\n",
    "    * action (`int`) : action following the current policy at the time step"
   ]
  },
  {
   "cell_type": "code",
   "execution_count": 89,
   "metadata": {},
   "outputs": [],
   "source": [
    "# Gets action from actor network\n",
    "\n",
    "def get_action(state):\n",
    "    \"\"\"\n",
    "    Gets action following the policy at current time step\n",
    "    Arg: \n",
    "        state (np.ndarray) : observation or state from environment\n",
    "    return: \n",
    "        action (int) : action following the policy \n",
    "    \"\"\"\n",
    "    action = np.random.randint(action_dim)\n",
    "    state = np.array(state).reshape([1, -1])\n",
    "\n",
    "    action_probs, _ = actor_critic(state)\n",
    "    action_probs = tf.nn.softmax(action_probs)\n",
    "    action_probs = action_probs.numpy()\n",
    "\n",
    "    dist = tfp.distributions.Categorical(probs=action_probs, dtype=tf.float32)\n",
    "    action = int(dist.sample())\n",
    "\n",
    "    return action "
   ]
  },
  {
   "cell_type": "code",
   "execution_count": 88,
   "metadata": {},
   "outputs": [
    {
     "data": {
      "text/plain": [
       "1"
      ]
     },
     "execution_count": 88,
     "metadata": {},
     "output_type": "execute_result"
    }
   ],
   "source": [
    "get_action(observation)"
   ]
  }
 ],
 "metadata": {
  "interpreter": {
   "hash": "c7782dd8a32840d6a27425c59b85f33d757e9ee643cd74cc2a8dc200067c3786"
  },
  "kernelspec": {
   "display_name": "Python 3.9.7 ('base')",
   "language": "python",
   "name": "python3"
  },
  "language_info": {
   "codemirror_mode": {
    "name": "ipython",
    "version": 3
   },
   "file_extension": ".py",
   "mimetype": "text/x-python",
   "name": "python",
   "nbconvert_exporter": "python",
   "pygments_lexer": "ipython3",
   "version": "3.8.12"
  },
  "orig_nbformat": 4
 },
 "nbformat": 4,
 "nbformat_minor": 2
}
