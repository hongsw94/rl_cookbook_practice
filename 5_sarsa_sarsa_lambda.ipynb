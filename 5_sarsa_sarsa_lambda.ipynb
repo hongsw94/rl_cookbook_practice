{
 "cells": [
  {
   "cell_type": "code",
   "execution_count": 1,
   "metadata": {},
   "outputs": [],
   "source": [
    "import numpy as np\n",
    "import random\n",
    "from value_function_utils import visualize_grid_action_values\n",
    "from envs.gridworldv2 import GridworldV2Env"
   ]
  },
  {
   "cell_type": "code",
   "execution_count": 2,
   "metadata": {},
   "outputs": [],
   "source": [
    "# initialize environment \n",
    "env = GridworldV2Env()\n",
    "\n",
    "# initialize hyperparameters\n",
    "max_episode = 4000\n",
    "gamma = 0.99\n",
    "alpha = 0.01\n",
    "\n"
   ]
  },
  {
   "cell_type": "code",
   "execution_count": 3,
   "metadata": {},
   "outputs": [],
   "source": [
    "grid_action_values = np.zeros((len(env.distinct_states), env.action_space.n))\n",
    "grid_action_values[env.goal_state] = 1\n",
    "grid_action_values[env.bomb_state] = -1 "
   ]
  },
  {
   "cell_type": "code",
   "execution_count": 4,
   "metadata": {},
   "outputs": [
    {
     "data": {
      "text/plain": [
       "array([[ 0.,  0.,  0.,  0.],\n",
       "       [ 0.,  0.,  0.,  0.],\n",
       "       [ 0.,  0.,  0.,  0.],\n",
       "       [ 1.,  1.,  1.,  1.],\n",
       "       [ 0.,  0.,  0.,  0.],\n",
       "       [ 0.,  0.,  0.,  0.],\n",
       "       [ 0.,  0.,  0.,  0.],\n",
       "       [-1., -1., -1., -1.],\n",
       "       [ 0.,  0.,  0.,  0.],\n",
       "       [ 0.,  0.,  0.,  0.],\n",
       "       [ 0.,  0.,  0.,  0.],\n",
       "       [ 0.,  0.,  0.,  0.]])"
      ]
     },
     "execution_count": 4,
     "metadata": {},
     "output_type": "execute_result"
    }
   ],
   "source": [
    "# initialize q table \n",
    "q = grid_action_values\n",
    "q"
   ]
  },
  {
   "cell_type": "code",
   "execution_count": 5,
   "metadata": {},
   "outputs": [
    {
     "data": {
      "text/plain": [
       "4"
      ]
     },
     "execution_count": 5,
     "metadata": {},
     "output_type": "execute_result"
    }
   ],
   "source": [
    "env.action_space.n"
   ]
  },
  {
   "cell_type": "code",
   "execution_count": 6,
   "metadata": {},
   "outputs": [],
   "source": [
    "# Policy (epsilon-greedy policy)\n",
    "def greedy_policy(q_vals ,epsilon=0.1):\n",
    "    \"\"\"Epsilon-greedy policy\"\"\"\n",
    "\n",
    "    if random.random() >= epsilon:\n",
    "        return np.argmax(q_vals)\n",
    "    else: \n",
    "        return random.randint(0, env.action_space.n - 1)\n",
    "\n",
    "def decay_epsilon(epsilon):\n",
    "    max_eps = 1 \n",
    "    min_eps = 0.01\n",
    "    if epsilon > max_eps:\n",
    "        epsilon = max_eps\n",
    "        return epsilon \n",
    "    elif (epsilon <= max_eps) & (epsilon > min_eps):\n",
    "        epsilon = (0.99) * epsilon\n",
    "        return epsilon \n",
    "    else: \n",
    "        return min_eps"
   ]
  },
  {
   "cell_type": "code",
   "execution_count": 7,
   "metadata": {},
   "outputs": [
    {
     "data": {
      "image/png": "[encoded data removed]",
      "text/plain": [
       "<Figure size 864x360 with 2 Axes>"
      ]
     },
     "metadata": {
      "needs_background": "light"
     },
     "output_type": "display_data"
    }
   ],
   "source": [
    "# iterate with episodes \n",
    "np.random.seed(42)\n",
    "\n",
    "for episode in range(max_episode):\n",
    "    step_num = 1\n",
    "    done = False \n",
    "    state = env.reset()\n",
    "    action = greedy_policy(q[state], 1)\n",
    "    epsilon = 1\n",
    "\n",
    "    while not done:\n",
    "        \n",
    "        next_state, reward, done = env.step(action)\n",
    "        epsilon = decay_epsilon(epsilon)\n",
    "        next_action = greedy_policy(q[next_state], epsilon=epsilon)\n",
    "        q[state][action] += alpha * (reward + gamma * q[next_state][next_action] - q[state][action])\n",
    "        state = next_state\n",
    "        action = next_action\n",
    "\n",
    "visualize_grid_action_values(grid_action_values=q)\n",
    "\n"
   ]
  },
  {
   "cell_type": "code",
   "execution_count": 8,
   "metadata": {},
   "outputs": [
    {
     "data": {
      "text/plain": [
       "array([0, 1, 2, 3])"
      ]
     },
     "execution_count": 8,
     "metadata": {},
     "output_type": "execute_result"
    }
   ],
   "source": [
    "np.arange(4)"
   ]
  },
  {
   "cell_type": "code",
   "execution_count": 9,
   "metadata": {},
   "outputs": [
    {
     "data": {
      "text/plain": [
       "2"
      ]
     },
     "execution_count": 9,
     "metadata": {},
     "output_type": "execute_result"
    }
   ],
   "source": [
    "np.random.choice(np.arange(4))"
   ]
  },
  {
   "cell_type": "code",
   "execution_count": null,
   "metadata": {},
   "outputs": [],
   "source": []
  }
 ],
 "metadata": {
  "interpreter": {
   "hash": "f14269bf3ad7aa2ae115b9ca9481e15e8eacecd83dc3347ac1efd388ad78cc6e"
  },
  "kernelspec": {
   "display_name": "Python 3.8.12",
   "language": "python",
   "name": "python3"
  },
  "language_info": {
   "codemirror_mode": {
    "name": "ipython",
    "version": 3
   },
   "file_extension": ".py",
   "mimetype": "text/x-python",
   "name": "python",
   "nbconvert_exporter": "python",
   "pygments_lexer": "ipython3",
   "version": "3.8.12"
  },
  "orig_nbformat": 4
 },
 "nbformat": 4,
 "nbformat_minor": 2
}
