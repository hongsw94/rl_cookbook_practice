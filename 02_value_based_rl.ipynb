{
 "cells": [
  {
   "cell_type": "code",
   "execution_count": 1,
   "id": "76299db9",
   "metadata": {},
   "outputs": [],
   "source": [
    "from pathlib import Path"
   ]
  },
  {
   "cell_type": "code",
   "execution_count": 2,
   "id": "eb1e05b2",
   "metadata": {},
   "outputs": [],
   "source": [
    "import numpy as np"
   ]
  },
  {
   "cell_type": "code",
   "execution_count": 3,
   "id": "bd0139c3",
   "metadata": {},
   "outputs": [],
   "source": [
    "from envs.maze import MazeEnv\n",
    "from value_function_utils import visualize_maze_values"
   ]
  },
  {
   "cell_type": "code",
   "execution_count": 4,
   "id": "957d220f",
   "metadata": {},
   "outputs": [],
   "source": [
    "discount = 0.9\n",
    "iters = 1000"
   ]
  },
  {
   "cell_type": "code",
   "execution_count": 13,
   "id": "0ecff3a3",
   "metadata": {},
   "outputs": [],
   "source": [
    "env = MazeEnv()\n",
    "state_dim = env.distinct_states\n",
    "state_values = np.zeros(state_dim)\n",
    "q_values = np.zeros((state_dim, env.action_space.n))\n",
    "policy = np.zeros(state_dim)"
   ]
  },
  {
   "cell_type": "code",
   "execution_count": 6,
   "id": "1f6505b1",
   "metadata": {},
   "outputs": [],
   "source": [
    "def calculate_values(state, action):\n",
    "    \"\"\"Evaluate Value function for given state and action\n",
    "    \n",
    "    Args:\n",
    "        state (int): Valid (discrete) state in discrete `env.observation_space`\n",
    "        action (int): Valid (discrete) action is discrete `env.action_space`\n",
    "    \n",
    "    Returns:\n",
    "        v_sum: value for given state, action\n",
    "    \n",
    "    \"\"\"\n",
    "    v_sum = 0\n",
    "    transitions = []\n",
    "    slip_action = env.slip_action_map[action]\n",
    "    env.set_state(state)\n",
    "    slip_next_state, slip_reward, _ = env.step(slip_action, slip=False)\n",
    "    transitions.append((slip_reward, slip_next_state, env.slip_probability))\n",
    "    env.set_state(state)\n",
    "    next_state, reward, _ = env.step(action, slip=False)\n",
    "    transitions.append((reward, next_state, 1-env.slip_probability))\n",
    "    for reward, next_state, pi in transitions:\n",
    "        v_sum += pi * (reward + discount * state_values[next_state])\n",
    "    return v_sum"
   ]
  },
  {
   "cell_type": "code",
   "execution_count": 14,
   "id": "c7103dd5",
   "metadata": {},
   "outputs": [],
   "source": [
    "# Value iteration\n",
    "for i in range(iters):\n",
    "    v_s = np.zeros(state_dim)\n",
    "    for state in range(state_dim):\n",
    "        if env.index_to_coordinate_map[int(state/8)] == env.goal_pos:\n",
    "            continue\n",
    "        v_max = float(\"-inf\")\n",
    "        for action in range(env.action_space.n):\n",
    "            v_sum = calculate_values(state, action)\n",
    "            v_max = max(v_max, v_sum)\n",
    "        v_s[state] = v_max\n",
    "    state_values = np.copy(v_s)\n",
    "\n",
    "\n"
   ]
  },
  {
   "cell_type": "code",
   "execution_count": 54,
   "id": "c9432152",
   "metadata": {},
   "outputs": [],
   "source": [
    "for state in range(state_dim):\n",
    "    print(state, end=', ')\n",
    "    for action in range(env.action_space.n):\n",
    "        q_values[state, action] = calculate_values(state, action)"
   ]
  },
  {
   "cell_type": "code",
   "execution_count": 64,
   "id": "17341780",
   "metadata": {},
   "outputs": [
    {
     "name": "stdout",
     "output_type": "stream",
     "text": [
      "[1 2 2 2 2 2 2 2 3 0 0 0 0 0 0 0 1 1 3 1 3 1 3 3 3 2 3 3 2 2 2 2 3 1 0 1 0\n",
      " 0 0 0 2 2 0 2 0 2 0 0 0 1 0 0 1 1 0 1 0 1 0 0 2 2 0 2 3 3 0 0 2 2 0 2 1 1\n",
      " 2 2 2 2 2 2 1 1 1 2 1 2 2 2 1 1 1 0 1 0 0 0 1 1 1 1 1 1 1 1 2 2 2 2 2 2 2\n",
      " 2]\n"
     ]
    }
   ],
   "source": [
    "policy = np.argmax(q_values, axis=1)\n",
    "print(policy)"
   ]
  },
  {
   "cell_type": "code",
   "execution_count": 65,
   "id": "83193d9c",
   "metadata": {},
   "outputs": [
    {
     "name": "stdout",
     "output_type": "stream",
     "text": [
      "Action mapping: [0 - UP; 1 - DOWN; 2 - LEFT; 3 - RIGHT]\n",
      "Optimal actions:\n",
      "[1 2 2 2 2 2 2 2 3 0 0 0 0 0 0 0 1 1 3 1 3 1 3 3 3 2 3 3 2 2 2 2 3 1 0 1 0\n",
      " 0 0 0 2 2 0 2 0 2 0 0 0 1 0 0 1 1 0 1 0 1 0 0 2 2 0 2 3 3 0 0 2 2 0 2 1 1\n",
      " 2 2 2 2 2 2 1 1 1 2 1 2 2 2 1 1 1 0 1 0 0 0 1 1 1 1 1 1 1 1 2 2 2 2 2 2 2\n",
      " 2]\n"
     ]
    },
    {
     "data": {
      "image/png": "[encoded data removed]",
      "text/plain": [
       "<Figure size 432x288 with 1 Axes>"
      ]
     },
     "metadata": {
      "needs_background": "light"
     },
     "output_type": "display_data"
    },
    {
     "data": {
      "image/png": "[encoded data removed]",
      "text/plain": [
       "<Figure size 432x288 with 1 Axes>"
      ]
     },
     "metadata": {
      "needs_background": "light"
     },
     "output_type": "display_data"
    },
    {
     "data": {
      "image/png": "[encoded data removed]",
      "text/plain": [
       "<Figure size 432x288 with 1 Axes>"
      ]
     },
     "metadata": {
      "needs_background": "light"
     },
     "output_type": "display_data"
    },
    {
     "data": {
      "image/png": "[encoded data removed]",
      "text/plain": [
       "<Figure size 432x288 with 1 Axes>"
      ]
     },
     "metadata": {
      "needs_background": "light"
     },
     "output_type": "display_data"
    },
    {
     "data": {
      "image/png": "[encoded data removed]",
      "text/plain": [
       "<Figure size 432x288 with 1 Axes>"
      ]
     },
     "metadata": {
      "needs_background": "light"
     },
     "output_type": "display_data"
    },
    {
     "data": {
      "image/png": "[encoded data removed]",
      "text/plain": [
       "<Figure size 432x288 with 1 Axes>"
      ]
     },
     "metadata": {
      "needs_background": "light"
     },
     "output_type": "display_data"
    },
    {
     "data": {
      "image/png": "[encoded data removed]",
      "text/plain": [
       "<Figure size 432x288 with 1 Axes>"
      ]
     },
     "metadata": {
      "needs_background": "light"
     },
     "output_type": "display_data"
    },
    {
     "data": {
      "image/png": "[encoded data removed]",
      "text/plain": [
       "<Figure size 432x288 with 1 Axes>"
      ]
     },
     "metadata": {
      "needs_background": "light"
     },
     "output_type": "display_data"
    }
   ],
   "source": [
    "Path(\"results\").mkdir(exist_ok=True)\n",
    "np.save(\"results/q_values\", q_values)\n",
    "np.save(\"results/optimal_policy\", policy)\n",
    "# print(q_values)\n",
    "print(\"Action mapping: [0 - UP; 1 - DOWN; 2 - LEFT; 3 - RIGHT]\")\n",
    "print(\"Optimal actions:\")\n",
    "print(policy)\n",
    "visualize_maze_values(q_values, env)"
   ]
  },
  {
   "cell_type": "code",
   "execution_count": null,
   "id": "ffcea5f1",
   "metadata": {},
   "outputs": [],
   "source": []
  }
 ],
 "metadata": {
  "kernelspec": {
   "display_name": "Python 3 (ipykernel)",
   "language": "python",
   "name": "python3"
  },
  "language_info": {
   "codemirror_mode": {
    "name": "ipython",
    "version": 3
   },
   "file_extension": ".py",
   "mimetype": "text/x-python",
   "name": "python",
   "nbconvert_exporter": "python",
   "pygments_lexer": "ipython3",
   "version": "3.8.12"
  }
 },
 "nbformat": 4,
 "nbformat_minor": 5
}
